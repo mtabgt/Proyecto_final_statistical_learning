{
 "cells": [
  {
   "attachments": {},
   "cell_type": "markdown",
   "metadata": {},
   "source": [
    "## Proyecto final: Notebook 3\n",
    "\n",
    "### David Tejeda - 9170350\n",
    "### Juan Hernández - 9710120\n",
    "### Mario Tabarini - 22000349\n"
   ]
  },
  {
   "cell_type": "code",
   "execution_count": 14,
   "metadata": {},
   "outputs": [],
   "source": [
    "import pandas as pd\n",
    "import numpy as np \n",
    "import matplotlib.pyplot as plt\n",
    "import seaborn as sns\n",
    "import category_encoders as ce\n",
    "from sklearn.neighbors import KernelDensity\n",
    "from sklearn.preprocessing import StandardScaler\n",
    "\n",
    "from sklearn.linear_model import Lasso\n",
    "from sklearn.metrics import mean_squared_error, r2_score\n",
    "from sklearn.model_selection import train_test_split\n",
    "from sklearn.pipeline import Pipeline\n",
    "from sklearn.preprocessing import MinMaxScaler, Binarizer\n",
    "\n",
    "from sklearn.linear_model import LinearRegression\n",
    "\n",
    "from feature_engine.imputation import AddMissingIndicator, MeanMedianImputer, CategoricalImputer\n",
    "from feature_engine.encoding import RareLabelEncoder, OrdinalEncoder\n",
    "from feature_engine.transformation import LogTransformer\n",
    "from feature_engine.selection import DropFeatures\n",
    "from feature_engine.wrappers import SklearnTransformerWrapper\n",
    "\n",
    "import scipy.stats as stats\n",
    "from IPython.display import display, HTML\n",
    "\n",
    "import joblib\n"
   ]
  },
  {
   "cell_type": "code",
   "execution_count": 15,
   "metadata": {},
   "outputs": [
    {
     "data": {
      "text/html": [
       "<div>\n",
       "<style scoped>\n",
       "    .dataframe tbody tr th:only-of-type {\n",
       "        vertical-align: middle;\n",
       "    }\n",
       "\n",
       "    .dataframe tbody tr th {\n",
       "        vertical-align: top;\n",
       "    }\n",
       "\n",
       "    .dataframe thead th {\n",
       "        text-align: right;\n",
       "    }\n",
       "</style>\n",
       "<table border=\"1\" class=\"dataframe\">\n",
       "  <thead>\n",
       "    <tr style=\"text-align: right;\">\n",
       "      <th></th>\n",
       "      <th>Age</th>\n",
       "      <th>Attrition</th>\n",
       "      <th>BusinessTravel</th>\n",
       "      <th>DailyRate</th>\n",
       "      <th>DistanceFromHome</th>\n",
       "      <th>Education</th>\n",
       "      <th>EducationField</th>\n",
       "      <th>EmployeeNumber</th>\n",
       "      <th>EnvironmentSatisfaction</th>\n",
       "      <th>HourlyRate</th>\n",
       "      <th>...</th>\n",
       "      <th>RelationshipSatisfaction</th>\n",
       "      <th>StandardHours</th>\n",
       "      <th>StockOptionLevel</th>\n",
       "      <th>TotalWorkingYears</th>\n",
       "      <th>TrainingTimesLastYear</th>\n",
       "      <th>WorkLifeBalance</th>\n",
       "      <th>YearsAtCompany</th>\n",
       "      <th>YearsInCurrentRole</th>\n",
       "      <th>YearsSinceLastPromotion</th>\n",
       "      <th>YearsWithCurrManager</th>\n",
       "    </tr>\n",
       "  </thead>\n",
       "  <tbody>\n",
       "    <tr>\n",
       "      <th>0</th>\n",
       "      <td>41.0</td>\n",
       "      <td>233</td>\n",
       "      <td>1054</td>\n",
       "      <td>1102.0</td>\n",
       "      <td>1</td>\n",
       "      <td>2</td>\n",
       "      <td>608</td>\n",
       "      <td>1.0</td>\n",
       "      <td>2.0</td>\n",
       "      <td>94.0</td>\n",
       "      <td>...</td>\n",
       "      <td>1</td>\n",
       "      <td>80</td>\n",
       "      <td>0</td>\n",
       "      <td>8.0</td>\n",
       "      <td>0</td>\n",
       "      <td>1</td>\n",
       "      <td>6.0</td>\n",
       "      <td>4</td>\n",
       "      <td>0</td>\n",
       "      <td>5</td>\n",
       "    </tr>\n",
       "    <tr>\n",
       "      <th>1</th>\n",
       "      <td>49.0</td>\n",
       "      <td>1237</td>\n",
       "      <td>269</td>\n",
       "      <td>279.0</td>\n",
       "      <td>8</td>\n",
       "      <td>1</td>\n",
       "      <td>608</td>\n",
       "      <td>2.0</td>\n",
       "      <td>3.0</td>\n",
       "      <td>61.0</td>\n",
       "      <td>...</td>\n",
       "      <td>4</td>\n",
       "      <td>80</td>\n",
       "      <td>1</td>\n",
       "      <td>10.0</td>\n",
       "      <td>3</td>\n",
       "      <td>3</td>\n",
       "      <td>10.0</td>\n",
       "      <td>7</td>\n",
       "      <td>1</td>\n",
       "      <td>7</td>\n",
       "    </tr>\n",
       "    <tr>\n",
       "      <th>2</th>\n",
       "      <td>37.0</td>\n",
       "      <td>233</td>\n",
       "      <td>1054</td>\n",
       "      <td>1373.0</td>\n",
       "      <td>2</td>\n",
       "      <td>2</td>\n",
       "      <td>82</td>\n",
       "      <td>4.0</td>\n",
       "      <td>4.0</td>\n",
       "      <td>92.0</td>\n",
       "      <td>...</td>\n",
       "      <td>2</td>\n",
       "      <td>80</td>\n",
       "      <td>0</td>\n",
       "      <td>7.0</td>\n",
       "      <td>3</td>\n",
       "      <td>3</td>\n",
       "      <td>0.0</td>\n",
       "      <td>0</td>\n",
       "      <td>0</td>\n",
       "      <td>0</td>\n",
       "    </tr>\n",
       "    <tr>\n",
       "      <th>3</th>\n",
       "      <td>33.0</td>\n",
       "      <td>1237</td>\n",
       "      <td>269</td>\n",
       "      <td>1392.0</td>\n",
       "      <td>3</td>\n",
       "      <td>4</td>\n",
       "      <td>608</td>\n",
       "      <td>5.0</td>\n",
       "      <td>4.0</td>\n",
       "      <td>56.0</td>\n",
       "      <td>...</td>\n",
       "      <td>3</td>\n",
       "      <td>80</td>\n",
       "      <td>0</td>\n",
       "      <td>8.0</td>\n",
       "      <td>3</td>\n",
       "      <td>3</td>\n",
       "      <td>8.0</td>\n",
       "      <td>7</td>\n",
       "      <td>3</td>\n",
       "      <td>0</td>\n",
       "    </tr>\n",
       "    <tr>\n",
       "      <th>4</th>\n",
       "      <td>37.0</td>\n",
       "      <td>1237</td>\n",
       "      <td>1054</td>\n",
       "      <td>591.0</td>\n",
       "      <td>2</td>\n",
       "      <td>1</td>\n",
       "      <td>462</td>\n",
       "      <td>7.0</td>\n",
       "      <td>1.0</td>\n",
       "      <td>40.0</td>\n",
       "      <td>...</td>\n",
       "      <td>4</td>\n",
       "      <td>80</td>\n",
       "      <td>1</td>\n",
       "      <td>6.0</td>\n",
       "      <td>3</td>\n",
       "      <td>3</td>\n",
       "      <td>2.0</td>\n",
       "      <td>2</td>\n",
       "      <td>2</td>\n",
       "      <td>2</td>\n",
       "    </tr>\n",
       "  </tbody>\n",
       "</table>\n",
       "<p>5 rows × 31 columns</p>\n",
       "</div>"
      ],
      "text/plain": [
       "    Age  Attrition  BusinessTravel  DailyRate  DistanceFromHome  Education  \\\n",
       "0  41.0        233            1054     1102.0                 1          2   \n",
       "1  49.0       1237             269      279.0                 8          1   \n",
       "2  37.0        233            1054     1373.0                 2          2   \n",
       "3  33.0       1237             269     1392.0                 3          4   \n",
       "4  37.0       1237            1054      591.0                 2          1   \n",
       "\n",
       "   EducationField  EmployeeNumber  EnvironmentSatisfaction  HourlyRate  ...  \\\n",
       "0             608             1.0                      2.0        94.0  ...   \n",
       "1             608             2.0                      3.0        61.0  ...   \n",
       "2              82             4.0                      4.0        92.0  ...   \n",
       "3             608             5.0                      4.0        56.0  ...   \n",
       "4             462             7.0                      1.0        40.0  ...   \n",
       "\n",
       "   RelationshipSatisfaction  StandardHours  StockOptionLevel  \\\n",
       "0                         1             80                 0   \n",
       "1                         4             80                 1   \n",
       "2                         2             80                 0   \n",
       "3                         3             80                 0   \n",
       "4                         4             80                 1   \n",
       "\n",
       "   TotalWorkingYears  TrainingTimesLastYear  WorkLifeBalance  YearsAtCompany  \\\n",
       "0                8.0                      0                1             6.0   \n",
       "1               10.0                      3                3            10.0   \n",
       "2                7.0                      3                3             0.0   \n",
       "3                8.0                      3                3             8.0   \n",
       "4                6.0                      3                3             2.0   \n",
       "\n",
       "   YearsInCurrentRole  YearsSinceLastPromotion  YearsWithCurrManager  \n",
       "0                   4                        0                     5  \n",
       "1                   7                        1                     7  \n",
       "2                   0                        0                     0  \n",
       "3                   7                        3                     0  \n",
       "4                   2                        2                     2  \n",
       "\n",
       "[5 rows x 31 columns]"
      ]
     },
     "execution_count": 15,
     "metadata": {},
     "output_type": "execute_result"
    }
   ],
   "source": [
    "data_noNAN = pd.read_csv('clean_attritions.csv') #Se importa acrhivo .CSV\n",
    "data_noNAN.head()"
   ]
  },
  {
   "cell_type": "code",
   "execution_count": 16,
   "metadata": {},
   "outputs": [],
   "source": [
    "def getColumnTypes(data_noNAN): #Función para determinar el tipo de dato en columnas del dataset. Si es numérica con más de 30 datos se clasifica como continua\n",
    "     continuas = []\n",
    "     discretas = []\n",
    "     categoricas = []\n",
    "     for col in data_noNAN.columns:\n",
    "          if((data_noNAN[col].dtype == 'int64') or (data_noNAN[col].dtype == 'float64')):\n",
    "               if(len(data_noNAN[col].unique()) > 30): \n",
    "                    continuas.append(col)\n",
    "               else:\n",
    "                    discretas.append(col)\n",
    "          else:\n",
    "               categoricas.append(col)\n",
    "\n",
    "     return continuas, discretas, categoricas\n",
    "\n",
    "continuas, discretas, categoricas = getColumnTypes(data_noNAN)"
   ]
  },
  {
   "attachments": {},
   "cell_type": "markdown",
   "metadata": {},
   "source": [
    "## Modelo de clasificación"
   ]
  },
  {
   "cell_type": "code",
   "execution_count": 17,
   "metadata": {},
   "outputs": [
    {
     "data": {
      "image/png": "[encoded data removed]",
      "text/plain": [
       "<Figure size 1000x500 with 1 Axes>"
      ]
     },
     "metadata": {},
     "output_type": "display_data"
    },
    {
     "data": {
      "image/png": "[encoded data removed]",
      "text/plain": [
       "<Figure size 1000x500 with 1 Axes>"
      ]
     },
     "metadata": {},
     "output_type": "display_data"
    },
    {
     "data": {
      "image/png": "[encoded data removed]",
      "text/plain": [
       "<Figure size 1000x500 with 1 Axes>"
      ]
     },
     "metadata": {},
     "output_type": "display_data"
    },
    {
     "data": {
      "image/png": "[encoded data removed]",
      "text/plain": [
       "<Figure size 1000x500 with 1 Axes>"
      ]
     },
     "metadata": {},
     "output_type": "display_data"
    },
    {
     "data": {
      "image/png": "[encoded data removed]",
      "text/plain": [
       "<Figure size 1000x500 with 1 Axes>"
      ]
     },
     "metadata": {},
     "output_type": "display_data"
    },
    {
     "data": {
      "image/png": "[encoded data removed]",
      "text/plain": [
       "<Figure size 1000x500 with 1 Axes>"
      ]
     },
     "metadata": {},
     "output_type": "display_data"
    },
    {
     "data": {
      "image/png": "[encoded data removed]",
      "text/plain": [
       "<Figure size 1000x500 with 1 Axes>"
      ]
     },
     "metadata": {},
     "output_type": "display_data"
    }
   ],
   "source": [
    "for colName in continuas:\n",
    "       plt.figure(figsize=(10, 5))\n",
    "       sns.boxplot(x=data_noNAN['Attrition'], y=data_noNAN[colName])\n",
    "       plt.title(colName)\n",
    "       plt.show()"
   ]
  },
  {
   "cell_type": "code",
   "execution_count": 18,
   "metadata": {},
   "outputs": [],
   "source": [
    "from sklearn.metrics import accuracy_score\n",
    "from sklearn.metrics import roc_auc_score\n",
    "\n",
    "from sklearn.model_selection import train_test_split\n",
    "\n",
    "from sklearn.preprocessing import StandardScaler\n"
   ]
  },
  {
   "cell_type": "code",
   "execution_count": 19,
   "metadata": {},
   "outputs": [],
   "source": [
    "# seleccionamos predictores y target.\n",
    "X = data_noNAN.drop(['Attrition'], axis=1)\n",
    "y = data_noNAN['Attrition']"
   ]
  },
  {
   "cell_type": "code",
   "execution_count": 20,
   "metadata": {},
   "outputs": [],
   "source": [
    "X_train, X_test, y_train, y_test = train_test_split(X, y, test_size=0.3, shuffle=True, random_state=2023)"
   ]
  },
  {
   "cell_type": "code",
   "execution_count": 21,
   "metadata": {},
   "outputs": [
    {
     "name": "stdout",
     "output_type": "stream",
     "text": [
      "<class 'pandas.core.frame.DataFrame'>\n",
      "RangeIndex: 1470 entries, 0 to 1469\n",
      "Data columns (total 31 columns):\n",
      " #   Column                    Non-Null Count  Dtype  \n",
      "---  ------                    --------------  -----  \n",
      " 0   Age                       1470 non-null   float64\n",
      " 1   Attrition                 1470 non-null   int64  \n",
      " 2   BusinessTravel            1470 non-null   int64  \n",
      " 3   DailyRate                 1470 non-null   float64\n",
      " 4   DistanceFromHome          1470 non-null   int64  \n",
      " 5   Education                 1470 non-null   int64  \n",
      " 6   EducationField            1470 non-null   int64  \n",
      " 7   EmployeeNumber            1470 non-null   float64\n",
      " 8   EnvironmentSatisfaction   1470 non-null   float64\n",
      " 9   HourlyRate                1470 non-null   float64\n",
      " 10  JobInvolvement            1470 non-null   float64\n",
      " 11  JobLevel                  1470 non-null   float64\n",
      " 12  JobRole                   1470 non-null   int64  \n",
      " 13  JobSatisfaction           1470 non-null   int64  \n",
      " 14  MaritalStatus             1470 non-null   int64  \n",
      " 15  MonthlyIncome             1470 non-null   float64\n",
      " 16  MonthlyRate               1470 non-null   float64\n",
      " 17  NumCompaniesWorked        1470 non-null   float64\n",
      " 18  OverTime                  1470 non-null   int64  \n",
      " 19  PercentSalaryHike         1470 non-null   int64  \n",
      " 20  PerformanceRating         1470 non-null   int64  \n",
      " 21  RelationshipSatisfaction  1470 non-null   int64  \n",
      " 22  StandardHours             1470 non-null   int64  \n",
      " 23  StockOptionLevel          1470 non-null   int64  \n",
      " 24  TotalWorkingYears         1470 non-null   float64\n",
      " 25  TrainingTimesLastYear     1470 non-null   int64  \n",
      " 26  WorkLifeBalance           1470 non-null   int64  \n",
      " 27  YearsAtCompany            1470 non-null   float64\n",
      " 28  YearsInCurrentRole        1470 non-null   int64  \n",
      " 29  YearsSinceLastPromotion   1470 non-null   int64  \n",
      " 30  YearsWithCurrManager      1470 non-null   int64  \n",
      "dtypes: float64(12), int64(19)\n",
      "memory usage: 356.1 KB\n"
     ]
    }
   ],
   "source": [
    "data_noNAN.info()"
   ]
  },
  {
   "cell_type": "code",
   "execution_count": 22,
   "metadata": {},
   "outputs": [],
   "source": [
    "scaler = StandardScaler()\n",
    "scaler.fit(X_train)\n",
    "\n",
    "X_train_std = scaler.transform(X_train)\n",
    "X_test_std = scaler.transform(X_test)"
   ]
  },
  {
   "attachments": {},
   "cell_type": "markdown",
   "metadata": {},
   "source": [
    "### Regresión logística"
   ]
  },
  {
   "cell_type": "code",
   "execution_count": 23,
   "metadata": {},
   "outputs": [
    {
     "data": {
      "text/plain": [
       "array([1237, 1237, 1237, 1237, 1237, 1237, 1237, 1237, 1237, 1237, 1237,\n",
       "       1237, 1237, 1237, 1237, 1237, 1237, 1237, 1237,  233, 1237, 1237,\n",
       "       1237, 1237, 1237, 1237, 1237, 1237, 1237, 1237, 1237, 1237, 1237,\n",
       "       1237, 1237, 1237, 1237,  233, 1237, 1237, 1237, 1237, 1237,  233,\n",
       "       1237, 1237, 1237, 1237, 1237, 1237, 1237, 1237, 1237, 1237, 1237,\n",
       "       1237, 1237, 1237, 1237, 1237, 1237, 1237, 1237, 1237, 1237, 1237,\n",
       "       1237, 1237, 1237, 1237, 1237,  233, 1237, 1237, 1237, 1237, 1237,\n",
       "       1237, 1237, 1237, 1237, 1237, 1237, 1237, 1237, 1237, 1237, 1237,\n",
       "       1237, 1237, 1237, 1237, 1237, 1237, 1237, 1237, 1237, 1237, 1237,\n",
       "       1237, 1237, 1237, 1237, 1237, 1237, 1237, 1237, 1237, 1237, 1237,\n",
       "        233, 1237, 1237, 1237, 1237, 1237, 1237, 1237, 1237, 1237, 1237,\n",
       "       1237, 1237, 1237, 1237, 1237,  233, 1237, 1237, 1237, 1237, 1237,\n",
       "       1237, 1237, 1237, 1237, 1237, 1237, 1237, 1237, 1237, 1237, 1237,\n",
       "       1237,  233, 1237,  233, 1237, 1237, 1237, 1237, 1237, 1237, 1237,\n",
       "       1237, 1237,  233, 1237, 1237, 1237, 1237, 1237, 1237, 1237, 1237,\n",
       "       1237, 1237, 1237, 1237, 1237, 1237, 1237,  233, 1237, 1237, 1237,\n",
       "       1237, 1237, 1237, 1237, 1237, 1237, 1237, 1237, 1237, 1237, 1237,\n",
       "       1237, 1237, 1237, 1237, 1237,  233, 1237, 1237, 1237, 1237, 1237,\n",
       "       1237,  233, 1237, 1237, 1237, 1237, 1237, 1237,  233, 1237, 1237,\n",
       "       1237, 1237, 1237, 1237, 1237, 1237, 1237, 1237, 1237, 1237, 1237,\n",
       "       1237, 1237, 1237, 1237,  233, 1237, 1237, 1237, 1237, 1237, 1237,\n",
       "        233, 1237, 1237, 1237, 1237, 1237, 1237, 1237, 1237, 1237, 1237,\n",
       "       1237, 1237, 1237, 1237, 1237, 1237,  233, 1237,  233, 1237, 1237,\n",
       "       1237, 1237, 1237,  233, 1237, 1237, 1237, 1237, 1237, 1237,  233,\n",
       "       1237, 1237, 1237, 1237, 1237, 1237,  233, 1237, 1237, 1237, 1237,\n",
       "       1237, 1237, 1237, 1237, 1237, 1237, 1237, 1237, 1237, 1237, 1237,\n",
       "       1237, 1237, 1237, 1237, 1237, 1237, 1237, 1237, 1237, 1237, 1237,\n",
       "       1237,  233, 1237, 1237, 1237, 1237, 1237, 1237, 1237, 1237, 1237,\n",
       "       1237, 1237, 1237, 1237, 1237, 1237, 1237, 1237, 1237, 1237, 1237,\n",
       "        233, 1237, 1237, 1237, 1237, 1237, 1237, 1237, 1237, 1237, 1237,\n",
       "       1237, 1237, 1237, 1237, 1237, 1237, 1237, 1237, 1237, 1237, 1237,\n",
       "       1237, 1237, 1237, 1237, 1237, 1237, 1237, 1237, 1237, 1237, 1237,\n",
       "       1237, 1237, 1237, 1237, 1237, 1237, 1237, 1237, 1237,  233, 1237,\n",
       "       1237, 1237, 1237, 1237, 1237, 1237, 1237, 1237, 1237, 1237, 1237,\n",
       "       1237, 1237, 1237, 1237, 1237, 1237, 1237, 1237, 1237, 1237, 1237,\n",
       "       1237, 1237, 1237, 1237, 1237, 1237, 1237, 1237, 1237,  233, 1237,\n",
       "       1237,  233, 1237,  233, 1237, 1237, 1237, 1237, 1237, 1237, 1237,\n",
       "       1237, 1237, 1237, 1237, 1237, 1237, 1237, 1237, 1237, 1237, 1237,\n",
       "       1237, 1237, 1237, 1237, 1237,  233, 1237, 1237, 1237, 1237, 1237,\n",
       "       1237, 1237, 1237, 1237, 1237, 1237, 1237, 1237, 1237, 1237, 1237,\n",
       "       1237], dtype=int64)"
      ]
     },
     "execution_count": 23,
     "metadata": {},
     "output_type": "execute_result"
    }
   ],
   "source": [
    "from sklearn.linear_model import LogisticRegression\n",
    "\n",
    "logit = LogisticRegression()\n",
    "logit.fit(X_train_std, y_train)\n",
    "\n",
    "logit_preds = logit.predict(X_test_std)\n",
    "logit_preds"
   ]
  },
  {
   "cell_type": "code",
   "execution_count": 24,
   "metadata": {},
   "outputs": [],
   "source": [
    "acc = round(accuracy_score(y_test, logit_preds), 5)\n",
    "roc_auc = round(roc_auc_score(y_test, logit_preds), 5)"
   ]
  },
  {
   "cell_type": "code",
   "execution_count": 25,
   "metadata": {},
   "outputs": [
    {
     "name": "stdout",
     "output_type": "stream",
     "text": [
      "Accuracy: 0.87075\n",
      "ROC-AUC: 0.62898\n"
     ]
    }
   ],
   "source": [
    "print(f\"Accuracy: {acc}\")\n",
    "print(f\"ROC-AUC: {roc_auc}\")"
   ]
  },
  {
   "cell_type": "code",
   "execution_count": 26,
   "metadata": {},
   "outputs": [
    {
     "name": "stdout",
     "output_type": "stream",
     "text": [
      "Mejores HyperParámetros: {'C': 1, 'fit_intercept': True, 'penalty': 'l2'}\n",
      "Mejor Métrica: 0.8083921260440825\n",
      "Mean Accuracy: 0.7039097850678733\n",
      "Mean ROC_AUC: 0.7657303094157256\n"
     ]
    },
    {
     "name": "stderr",
     "output_type": "stream",
     "text": [
      "c:\\Users\\Mario T\\anaconda3\\lib\\site-packages\\sklearn\\model_selection\\_validation.py:372: FitFailedWarning: \n",
      "320 fits failed out of a total of 640.\n",
      "The score on these train-test partitions for these parameters will be set to nan.\n",
      "If these failures are not expected, you can try to debug them by setting error_score='raise'.\n",
      "\n",
      "Below are more details about the failures:\n",
      "--------------------------------------------------------------------------------\n",
      "160 fits failed with the following error:\n",
      "Traceback (most recent call last):\n",
      "  File \"c:\\Users\\Mario T\\anaconda3\\lib\\site-packages\\sklearn\\model_selection\\_validation.py\", line 680, in _fit_and_score\n",
      "    estimator.fit(X_train, y_train, **fit_params)\n",
      "  File \"c:\\Users\\Mario T\\anaconda3\\lib\\site-packages\\sklearn\\linear_model\\_logistic.py\", line 1471, in fit\n",
      "    raise ValueError(\n",
      "ValueError: l1_ratio must be between 0 and 1; got (l1_ratio=None)\n",
      "\n",
      "--------------------------------------------------------------------------------\n",
      "160 fits failed with the following error:\n",
      "Traceback (most recent call last):\n",
      "  File \"c:\\Users\\Mario T\\anaconda3\\lib\\site-packages\\sklearn\\model_selection\\_validation.py\", line 680, in _fit_and_score\n",
      "    estimator.fit(X_train, y_train, **fit_params)\n",
      "  File \"c:\\Users\\Mario T\\anaconda3\\lib\\site-packages\\sklearn\\linear_model\\_logistic.py\", line 1461, in fit\n",
      "    solver = _check_solver(self.solver, self.penalty, self.dual)\n",
      "  File \"c:\\Users\\Mario T\\anaconda3\\lib\\site-packages\\sklearn\\linear_model\\_logistic.py\", line 441, in _check_solver\n",
      "    raise ValueError(\n",
      "ValueError: Logistic Regression supports only penalties in ['l1', 'l2', 'elasticnet', 'none'], got None.\n",
      "\n",
      "  warnings.warn(some_fits_failed_message, FitFailedWarning)\n",
      "c:\\Users\\Mario T\\anaconda3\\lib\\site-packages\\sklearn\\model_selection\\_search.py:969: UserWarning: One or more of the test scores are non-finite: [0.5        0.79959799        nan        nan 0.5        0.80111478\n",
      "        nan        nan 0.79378722 0.80733735        nan        nan\n",
      " 0.79198281 0.804791          nan        nan 0.80636367 0.80839213\n",
      "        nan        nan 0.80529177 0.80567762        nan        nan\n",
      " 0.80805794 0.80748426        nan        nan 0.8059245  0.80588191\n",
      "        nan        nan]\n",
      "  warnings.warn(\n",
      "c:\\Users\\Mario T\\anaconda3\\lib\\site-packages\\sklearn\\model_selection\\_search.py:969: UserWarning: One or more of the test scores are non-finite: [0.83963047 0.84447587        nan        nan 0.16036953 0.59690799\n",
      "        nan        nan 0.8561463  0.87356712        nan        nan\n",
      " 0.61052036 0.5969457         nan        nan 0.86874057 0.87258673\n",
      "        nan        nan 0.59886878 0.59986802        nan        nan\n",
      " 0.87162519 0.87256787        nan        nan 0.59986802 0.59986802\n",
      "        nan        nan]\n",
      "  warnings.warn(\n"
     ]
    }
   ],
   "source": [
    "from sklearn.model_selection import GridSearchCV, KFold\n",
    "\n",
    "logit = LogisticRegression(solver='saga')\n",
    " \n",
    "hyperparams_grid = {'penalty': ['l1', 'l2', 'elasticnet', None],\n",
    "                                     'C': [0.01, 0.1, 1, 10],\n",
    "                                     'fit_intercept': [True, False]\n",
    "}\n",
    "\n",
    "grid_search = GridSearchCV(estimator=logit, param_grid=hyperparams_grid, scoring=['roc_auc', 'accuracy'], refit='roc_auc', n_jobs =-1, \n",
    "                                                                                     cv=KFold(n_splits=20, shuffle=True, random_state=2023))\n",
    "grid_search.fit(X_train_std, y_train)\n",
    "\n",
    "accuracies = grid_search.cv_results_['mean_test_accuracy']\n",
    "roc_aucs = grid_search.cv_results_['mean_test_roc_auc']\n",
    "\n",
    "mean_acc =  np.mean([x for x in accuracies if not np.isnan(x)])\n",
    "mean_roc_aucs = np.mean([x for x in roc_aucs if not np.isnan(x)])\n",
    "\n",
    "print(f'Mejores HyperParámetros: {grid_search.best_params_}')\n",
    "print(f'Mejor Métrica: {grid_search.best_score_}')\n",
    "print(f'Mean Accuracy: {mean_acc}')\n",
    "print(f'Mean ROC_AUC: {mean_roc_aucs}')"
   ]
  },
  {
   "attachments": {},
   "cell_type": "markdown",
   "metadata": {},
   "source": [
    "### Random Forest"
   ]
  },
  {
   "cell_type": "code",
   "execution_count": 27,
   "metadata": {},
   "outputs": [
    {
     "name": "stderr",
     "output_type": "stream",
     "text": [
      "c:\\Users\\Mario T\\anaconda3\\lib\\site-packages\\sklearn\\model_selection\\_validation.py:372: FitFailedWarning: \n",
      "20 fits failed out of a total of 60.\n",
      "The score on these train-test partitions for these parameters will be set to nan.\n",
      "If these failures are not expected, you can try to debug them by setting error_score='raise'.\n",
      "\n",
      "Below are more details about the failures:\n",
      "--------------------------------------------------------------------------------\n",
      "20 fits failed with the following error:\n",
      "Traceback (most recent call last):\n",
      "  File \"c:\\Users\\Mario T\\anaconda3\\lib\\site-packages\\sklearn\\model_selection\\_validation.py\", line 680, in _fit_and_score\n",
      "    estimator.fit(X_train, y_train, **fit_params)\n",
      "  File \"c:\\Users\\Mario T\\anaconda3\\lib\\site-packages\\sklearn\\ensemble\\_forest.py\", line 450, in fit\n",
      "    trees = Parallel(\n",
      "  File \"c:\\Users\\Mario T\\anaconda3\\lib\\site-packages\\joblib\\parallel.py\", line 1043, in __call__\n",
      "    if self.dispatch_one_batch(iterator):\n",
      "  File \"c:\\Users\\Mario T\\anaconda3\\lib\\site-packages\\joblib\\parallel.py\", line 861, in dispatch_one_batch\n",
      "    self._dispatch(tasks)\n",
      "  File \"c:\\Users\\Mario T\\anaconda3\\lib\\site-packages\\joblib\\parallel.py\", line 779, in _dispatch\n",
      "    job = self._backend.apply_async(batch, callback=cb)\n",
      "  File \"c:\\Users\\Mario T\\anaconda3\\lib\\site-packages\\joblib\\_parallel_backends.py\", line 208, in apply_async\n",
      "    result = ImmediateResult(func)\n",
      "  File \"c:\\Users\\Mario T\\anaconda3\\lib\\site-packages\\joblib\\_parallel_backends.py\", line 572, in __init__\n",
      "    self.results = batch()\n",
      "  File \"c:\\Users\\Mario T\\anaconda3\\lib\\site-packages\\joblib\\parallel.py\", line 262, in __call__\n",
      "    return [func(*args, **kwargs)\n",
      "  File \"c:\\Users\\Mario T\\anaconda3\\lib\\site-packages\\joblib\\parallel.py\", line 262, in <listcomp>\n",
      "    return [func(*args, **kwargs)\n",
      "  File \"c:\\Users\\Mario T\\anaconda3\\lib\\site-packages\\sklearn\\utils\\fixes.py\", line 216, in __call__\n",
      "    return self.function(*args, **kwargs)\n",
      "  File \"c:\\Users\\Mario T\\anaconda3\\lib\\site-packages\\sklearn\\ensemble\\_forest.py\", line 185, in _parallel_build_trees\n",
      "    tree.fit(X, y, sample_weight=curr_sample_weight, check_input=False)\n",
      "  File \"c:\\Users\\Mario T\\anaconda3\\lib\\site-packages\\sklearn\\tree\\_classes.py\", line 937, in fit\n",
      "    super().fit(\n",
      "  File \"c:\\Users\\Mario T\\anaconda3\\lib\\site-packages\\sklearn\\tree\\_classes.py\", line 352, in fit\n",
      "    criterion = CRITERIA_CLF[self.criterion](\n",
      "KeyError: 'log_loss'\n",
      "\n",
      "  warnings.warn(some_fits_failed_message, FitFailedWarning)\n",
      "c:\\Users\\Mario T\\anaconda3\\lib\\site-packages\\sklearn\\model_selection\\_search.py:969: UserWarning: One or more of the test scores are non-finite: [0.79124343 0.79330983        nan]\n",
      "  warnings.warn(\n",
      "c:\\Users\\Mario T\\anaconda3\\lib\\site-packages\\sklearn\\model_selection\\_search.py:969: UserWarning: One or more of the test scores are non-finite: [0.8657994  0.86289593        nan]\n",
      "  warnings.warn(\n"
     ]
    },
    {
     "name": "stdout",
     "output_type": "stream",
     "text": [
      "Mejores HyperParámetros: {'criterion': 'entropy', 'n_estimators': 1000}\n",
      "Mejor Métrica: 0.793309825685598\n",
      "Mean Accuracy: 0.8643476621417798\n",
      "Mean ROC_AUC: 0.7922766263393244\n"
     ]
    }
   ],
   "source": [
    "from sklearn.ensemble import RandomForestClassifier\n",
    "\n",
    "random_forest = RandomForestClassifier()\n",
    "\n",
    "hyperparams_grid = {'n_estimators': [1000],\n",
    "                                    'criterion': ['gini', 'entropy', 'log_loss']\n",
    "}\n",
    "    \n",
    "grid_search = GridSearchCV(estimator=random_forest, param_grid=hyperparams_grid, scoring=['roc_auc', 'accuracy'], refit='roc_auc', n_jobs =-1, \n",
    "                                                                                     cv=KFold(n_splits=20, shuffle=True, random_state=2023))\n",
    "grid_search.fit(X_train_std, y_train)\n",
    "\n",
    "accuracies = grid_search.cv_results_['mean_test_accuracy']\n",
    "roc_aucs = grid_search.cv_results_['mean_test_roc_auc']\n",
    "\n",
    "mean_acc =  np.mean([x for x in accuracies if not np.isnan(x)])\n",
    "mean_roc_aucs = np.mean([x for x in roc_aucs if not np.isnan(x)])\n",
    "\n",
    "print(f'Mejores HyperParámetros: {grid_search.best_params_}')\n",
    "print(f'Mejor Métrica: {grid_search.best_score_}')\n",
    "print(f'Mean Accuracy: {mean_acc}')\n",
    "print(f'Mean ROC_AUC: {mean_roc_aucs}')"
   ]
  },
  {
   "attachments": {},
   "cell_type": "markdown",
   "metadata": {},
   "source": [
    "### Naive Bayes"
   ]
  },
  {
   "cell_type": "code",
   "execution_count": 28,
   "metadata": {},
   "outputs": [
    {
     "name": "stdout",
     "output_type": "stream",
     "text": [
      "Accuracy: 0.7777777777777778\n",
      "ROC_AUC: 0.6882589496924775\n",
      "Mean Accuracy: 0.8096530920060332\n",
      "Mean ROC_AUC: 0.7690553668073978\n"
     ]
    }
   ],
   "source": [
    "from sklearn.naive_bayes import GaussianNB\n",
    "from sklearn.metrics import roc_auc_score\n",
    "from sklearn.model_selection import cross_val_score\n",
    "\n",
    "gnb = GaussianNB()\n",
    "\n",
    "gnb.fit(X_train_std, y_train)\n",
    "\n",
    "y_pred = gnb.predict(X_test_std)\n",
    "accuracy = gnb.score(X_test_std, y_test)\n",
    "roc_auc = roc_auc_score(y_test, y_pred)\n",
    "mean_acc = cross_val_score(gnb, X_train_std, y_train, cv=KFold(n_splits=20, shuffle=True, random_state=2023)).mean()\n",
    "mean_roc_auc = cross_val_score(gnb, X_train_std, y_train, cv=KFold(n_splits=20, shuffle=True, random_state=2023), scoring='roc_auc').mean()\n",
    "\n",
    "print(f'Accuracy: {accuracy}')\n",
    "print(f'ROC_AUC: {roc_auc}')\n",
    "print(f'Mean Accuracy: {mean_acc}')\n",
    "print(f'Mean ROC_AUC: {mean_roc_auc}')"
   ]
  },
  {
   "attachments": {},
   "cell_type": "markdown",
   "metadata": {},
   "source": [
    "### LDA"
   ]
  },
  {
   "cell_type": "code",
   "execution_count": 29,
   "metadata": {},
   "outputs": [
    {
     "name": "stdout",
     "output_type": "stream",
     "text": [
      "Accuracy: 0.854875283446712\n",
      "ROC_AUC: 0.6015612679388109\n",
      "Mean Accuracy: 0.8667797888386124\n",
      "Mean ROC_AUC: 0.8060430058022154\n"
     ]
    }
   ],
   "source": [
    "from sklearn.discriminant_analysis import LinearDiscriminantAnalysis\n",
    "from sklearn.metrics import roc_auc_score\n",
    "from sklearn.model_selection import cross_val_score\n",
    "\n",
    "lda = LinearDiscriminantAnalysis()\n",
    "\n",
    "lda.fit(X_train_std, y_train)\n",
    "\n",
    "y_pred = lda.predict(X_test_std)\n",
    "accuracy = lda.score(X_test_std, y_test)\n",
    "roc_auc = roc_auc_score(y_test, y_pred)\n",
    "mean_acc = cross_val_score(lda, X_train_std, y_train, cv=KFold(n_splits=20, shuffle=True, random_state=2023)).mean()\n",
    "mean_roc_auc = cross_val_score(lda, X_train_std, y_train, cv=KFold(n_splits=20, shuffle=True, random_state=2023), scoring='roc_auc').mean()\n",
    "\n",
    "print(f'Accuracy: {accuracy}')\n",
    "print(f'ROC_AUC: {roc_auc}')\n",
    "print(f'Mean Accuracy: {mean_acc}')\n",
    "print(f'Mean ROC_AUC: {mean_roc_auc}')"
   ]
  },
  {
   "attachments": {},
   "cell_type": "markdown",
   "metadata": {},
   "source": [
    "### SVM"
   ]
  },
  {
   "cell_type": "code",
   "execution_count": 30,
   "metadata": {},
   "outputs": [
    {
     "name": "stdout",
     "output_type": "stream",
     "text": [
      "Mejores HyperParámetros: {'C': 0.01, 'gamma': 'auto', 'kernel': 'rbf'}\n",
      "Mejor Métrica: 0.8084288014735959\n",
      "Mean Accuracy: 0.8396304675716442\n",
      "Mean ROC_AUC: 0.8084288014735959\n"
     ]
    }
   ],
   "source": [
    "from sklearn.svm import SVC\n",
    "from sklearn.metrics import roc_auc_score\n",
    "from sklearn.model_selection import cross_val_score\n",
    "\n",
    "svm = SVC()\n",
    "\n",
    "hyperparams_grid = {'C': [0.01, 0.1, 1, 10],\n",
    "                    'kernel': ['linear', 'rbf', 'poly'],\n",
    "                    'gamma': ['scale', 'auto']}\n",
    "\n",
    "grid_search = GridSearchCV(estimator=svm, param_grid=hyperparams_grid, scoring=['roc_auc', 'accuracy'], refit='roc_auc', n_jobs=-1, cv=KFold(n_splits=20, shuffle=True, random_state=2023))\n",
    "grid_search.fit(X_train_std, y_train)\n",
    "\n",
    "best_params = grid_search.best_params_\n",
    "best_score = grid_search.best_score_\n",
    "\n",
    "mean_acc = cross_val_score(grid_search.best_estimator_, X_train_std, y_train, cv=KFold(n_splits=20, shuffle=True, random_state=2023)).mean()\n",
    "mean_roc_auc = cross_val_score(grid_search.best_estimator_, X_train_std, y_train, cv=KFold(n_splits=20, shuffle=True, random_state=2023), scoring='roc_auc').mean()\n",
    "\n",
    "print(f'Mejores HyperParámetros: {best_params}')\n",
    "print(f'Mejor Métrica: {best_score}')\n",
    "print(f'Mean Accuracy: {mean_acc}')\n",
    "print(f'Mean ROC_AUC: {mean_roc_auc}')"
   ]
  },
  {
   "attachments": {},
   "cell_type": "markdown",
   "metadata": {},
   "source": [
    "### Árboles de decisión"
   ]
  },
  {
   "cell_type": "code",
   "execution_count": 31,
   "metadata": {},
   "outputs": [
    {
     "name": "stdout",
     "output_type": "stream",
     "text": [
      "Mejores HyperParámetros: {'max_depth': 3, 'min_samples_leaf': 4, 'min_samples_split': 2}\n",
      "Mejor Métrica: 0.6803636442738155\n",
      "Mean Accuracy: 0.8491704374057315\n",
      "Mean ROC_AUC: 0.6803636442738155\n"
     ]
    }
   ],
   "source": [
    "from sklearn.tree import DecisionTreeClassifier\n",
    "from sklearn.metrics import roc_auc_score\n",
    "from sklearn.model_selection import cross_val_score\n",
    "\n",
    "dt = DecisionTreeClassifier()\n",
    "\n",
    "hyperparams_grid = {'max_depth': [3, 5, 10],\n",
    "                    'min_samples_split': [2, 5, 10],\n",
    "                    'min_samples_leaf': [1, 2, 4]}\n",
    "\n",
    "grid_search = GridSearchCV(estimator=dt, param_grid=hyperparams_grid, scoring=['roc_auc', 'accuracy'], refit='roc_auc', n_jobs=-1, cv=KFold(n_splits=20, shuffle=True, random_state=2023))\n",
    "grid_search.fit(X_train_std, y_train)\n",
    "\n",
    "best_params = grid_search.best_params_\n",
    "best_score = grid_search.best_score_\n",
    "\n",
    "mean_acc = cross_val_score(grid_search.best_estimator_, X_train_std, y_train, cv=KFold(n_splits=20, shuffle=True, random_state=2023)).mean()\n",
    "mean_roc_auc = cross_val_score(grid_search.best_estimator_, X_train_std, y_train, cv=KFold(n_splits=20, shuffle=True, random_state=2023), scoring='roc_auc').mean()\n",
    "\n",
    "print(f'Mejores HyperParámetros: {best_params}')\n",
    "print(f'Mejor Métrica: {best_score}')\n",
    "print(f'Mean Accuracy: {mean_acc}')\n",
    "print(f'Mean ROC_AUC: {mean_roc_auc}')"
   ]
  },
  {
   "attachments": {},
   "cell_type": "markdown",
   "metadata": {},
   "source": [
    "### Análisis de discriminante cuadrático"
   ]
  },
  {
   "cell_type": "code",
   "execution_count": 32,
   "metadata": {},
   "outputs": [
    {
     "name": "stderr",
     "output_type": "stream",
     "text": [
      "c:\\Users\\Mario T\\anaconda3\\lib\\site-packages\\sklearn\\discriminant_analysis.py:878: UserWarning: Variables are collinear\n",
      "  warnings.warn(\"Variables are collinear\")\n",
      "c:\\Users\\Mario T\\anaconda3\\lib\\site-packages\\sklearn\\discriminant_analysis.py:878: UserWarning: Variables are collinear\n",
      "  warnings.warn(\"Variables are collinear\")\n",
      "c:\\Users\\Mario T\\anaconda3\\lib\\site-packages\\sklearn\\discriminant_analysis.py:878: UserWarning: Variables are collinear\n",
      "  warnings.warn(\"Variables are collinear\")\n",
      "c:\\Users\\Mario T\\anaconda3\\lib\\site-packages\\sklearn\\discriminant_analysis.py:878: UserWarning: Variables are collinear\n",
      "  warnings.warn(\"Variables are collinear\")\n",
      "c:\\Users\\Mario T\\anaconda3\\lib\\site-packages\\sklearn\\discriminant_analysis.py:878: UserWarning: Variables are collinear\n",
      "  warnings.warn(\"Variables are collinear\")\n",
      "c:\\Users\\Mario T\\anaconda3\\lib\\site-packages\\sklearn\\discriminant_analysis.py:878: UserWarning: Variables are collinear\n",
      "  warnings.warn(\"Variables are collinear\")\n",
      "c:\\Users\\Mario T\\anaconda3\\lib\\site-packages\\sklearn\\discriminant_analysis.py:878: UserWarning: Variables are collinear\n",
      "  warnings.warn(\"Variables are collinear\")\n",
      "c:\\Users\\Mario T\\anaconda3\\lib\\site-packages\\sklearn\\discriminant_analysis.py:878: UserWarning: Variables are collinear\n",
      "  warnings.warn(\"Variables are collinear\")\n",
      "c:\\Users\\Mario T\\anaconda3\\lib\\site-packages\\sklearn\\discriminant_analysis.py:878: UserWarning: Variables are collinear\n",
      "  warnings.warn(\"Variables are collinear\")\n",
      "c:\\Users\\Mario T\\anaconda3\\lib\\site-packages\\sklearn\\discriminant_analysis.py:878: UserWarning: Variables are collinear\n",
      "  warnings.warn(\"Variables are collinear\")\n",
      "c:\\Users\\Mario T\\anaconda3\\lib\\site-packages\\sklearn\\discriminant_analysis.py:878: UserWarning: Variables are collinear\n",
      "  warnings.warn(\"Variables are collinear\")\n",
      "c:\\Users\\Mario T\\anaconda3\\lib\\site-packages\\sklearn\\discriminant_analysis.py:878: UserWarning: Variables are collinear\n",
      "  warnings.warn(\"Variables are collinear\")\n",
      "c:\\Users\\Mario T\\anaconda3\\lib\\site-packages\\sklearn\\discriminant_analysis.py:878: UserWarning: Variables are collinear\n",
      "  warnings.warn(\"Variables are collinear\")\n",
      "c:\\Users\\Mario T\\anaconda3\\lib\\site-packages\\sklearn\\discriminant_analysis.py:878: UserWarning: Variables are collinear\n",
      "  warnings.warn(\"Variables are collinear\")\n",
      "c:\\Users\\Mario T\\anaconda3\\lib\\site-packages\\sklearn\\discriminant_analysis.py:878: UserWarning: Variables are collinear\n",
      "  warnings.warn(\"Variables are collinear\")\n",
      "c:\\Users\\Mario T\\anaconda3\\lib\\site-packages\\sklearn\\discriminant_analysis.py:878: UserWarning: Variables are collinear\n",
      "  warnings.warn(\"Variables are collinear\")\n",
      "c:\\Users\\Mario T\\anaconda3\\lib\\site-packages\\sklearn\\discriminant_analysis.py:878: UserWarning: Variables are collinear\n",
      "  warnings.warn(\"Variables are collinear\")\n",
      "c:\\Users\\Mario T\\anaconda3\\lib\\site-packages\\sklearn\\discriminant_analysis.py:878: UserWarning: Variables are collinear\n",
      "  warnings.warn(\"Variables are collinear\")\n",
      "c:\\Users\\Mario T\\anaconda3\\lib\\site-packages\\sklearn\\discriminant_analysis.py:878: UserWarning: Variables are collinear\n",
      "  warnings.warn(\"Variables are collinear\")\n",
      "c:\\Users\\Mario T\\anaconda3\\lib\\site-packages\\sklearn\\discriminant_analysis.py:878: UserWarning: Variables are collinear\n",
      "  warnings.warn(\"Variables are collinear\")\n",
      "c:\\Users\\Mario T\\anaconda3\\lib\\site-packages\\sklearn\\discriminant_analysis.py:878: UserWarning: Variables are collinear\n",
      "  warnings.warn(\"Variables are collinear\")\n",
      "c:\\Users\\Mario T\\anaconda3\\lib\\site-packages\\sklearn\\discriminant_analysis.py:878: UserWarning: Variables are collinear\n",
      "  warnings.warn(\"Variables are collinear\")\n",
      "c:\\Users\\Mario T\\anaconda3\\lib\\site-packages\\sklearn\\discriminant_analysis.py:878: UserWarning: Variables are collinear\n",
      "  warnings.warn(\"Variables are collinear\")\n",
      "c:\\Users\\Mario T\\anaconda3\\lib\\site-packages\\sklearn\\discriminant_analysis.py:878: UserWarning: Variables are collinear\n",
      "  warnings.warn(\"Variables are collinear\")\n",
      "c:\\Users\\Mario T\\anaconda3\\lib\\site-packages\\sklearn\\discriminant_analysis.py:878: UserWarning: Variables are collinear\n",
      "  warnings.warn(\"Variables are collinear\")\n",
      "c:\\Users\\Mario T\\anaconda3\\lib\\site-packages\\sklearn\\discriminant_analysis.py:878: UserWarning: Variables are collinear\n",
      "  warnings.warn(\"Variables are collinear\")\n",
      "c:\\Users\\Mario T\\anaconda3\\lib\\site-packages\\sklearn\\discriminant_analysis.py:878: UserWarning: Variables are collinear\n",
      "  warnings.warn(\"Variables are collinear\")\n",
      "c:\\Users\\Mario T\\anaconda3\\lib\\site-packages\\sklearn\\discriminant_analysis.py:878: UserWarning: Variables are collinear\n",
      "  warnings.warn(\"Variables are collinear\")\n",
      "c:\\Users\\Mario T\\anaconda3\\lib\\site-packages\\sklearn\\discriminant_analysis.py:878: UserWarning: Variables are collinear\n",
      "  warnings.warn(\"Variables are collinear\")\n",
      "c:\\Users\\Mario T\\anaconda3\\lib\\site-packages\\sklearn\\discriminant_analysis.py:878: UserWarning: Variables are collinear\n",
      "  warnings.warn(\"Variables are collinear\")\n",
      "c:\\Users\\Mario T\\anaconda3\\lib\\site-packages\\sklearn\\discriminant_analysis.py:878: UserWarning: Variables are collinear\n",
      "  warnings.warn(\"Variables are collinear\")\n",
      "c:\\Users\\Mario T\\anaconda3\\lib\\site-packages\\sklearn\\discriminant_analysis.py:878: UserWarning: Variables are collinear\n",
      "  warnings.warn(\"Variables are collinear\")\n"
     ]
    },
    {
     "name": "stdout",
     "output_type": "stream",
     "text": [
      "Accuracy: 0.7573696145124716\n",
      "ROC_AUC: 0.5499329758713136\n",
      "Mean Accuracy: 0.7840686274509803\n",
      "Mean ROC_AUC: 0.6594497533290039\n"
     ]
    },
    {
     "name": "stderr",
     "output_type": "stream",
     "text": [
      "c:\\Users\\Mario T\\anaconda3\\lib\\site-packages\\sklearn\\discriminant_analysis.py:878: UserWarning: Variables are collinear\n",
      "  warnings.warn(\"Variables are collinear\")\n",
      "c:\\Users\\Mario T\\anaconda3\\lib\\site-packages\\sklearn\\discriminant_analysis.py:878: UserWarning: Variables are collinear\n",
      "  warnings.warn(\"Variables are collinear\")\n",
      "c:\\Users\\Mario T\\anaconda3\\lib\\site-packages\\sklearn\\discriminant_analysis.py:878: UserWarning: Variables are collinear\n",
      "  warnings.warn(\"Variables are collinear\")\n",
      "c:\\Users\\Mario T\\anaconda3\\lib\\site-packages\\sklearn\\discriminant_analysis.py:878: UserWarning: Variables are collinear\n",
      "  warnings.warn(\"Variables are collinear\")\n",
      "c:\\Users\\Mario T\\anaconda3\\lib\\site-packages\\sklearn\\discriminant_analysis.py:878: UserWarning: Variables are collinear\n",
      "  warnings.warn(\"Variables are collinear\")\n",
      "c:\\Users\\Mario T\\anaconda3\\lib\\site-packages\\sklearn\\discriminant_analysis.py:878: UserWarning: Variables are collinear\n",
      "  warnings.warn(\"Variables are collinear\")\n",
      "c:\\Users\\Mario T\\anaconda3\\lib\\site-packages\\sklearn\\discriminant_analysis.py:878: UserWarning: Variables are collinear\n",
      "  warnings.warn(\"Variables are collinear\")\n",
      "c:\\Users\\Mario T\\anaconda3\\lib\\site-packages\\sklearn\\discriminant_analysis.py:878: UserWarning: Variables are collinear\n",
      "  warnings.warn(\"Variables are collinear\")\n",
      "c:\\Users\\Mario T\\anaconda3\\lib\\site-packages\\sklearn\\discriminant_analysis.py:878: UserWarning: Variables are collinear\n",
      "  warnings.warn(\"Variables are collinear\")\n"
     ]
    }
   ],
   "source": [
    "from sklearn.discriminant_analysis import QuadraticDiscriminantAnalysis\n",
    "from sklearn.metrics import roc_auc_score\n",
    "from sklearn.model_selection import cross_val_score\n",
    "\n",
    "qda = QuadraticDiscriminantAnalysis()\n",
    "\n",
    "qda.fit(X_train_std, y_train)\n",
    "\n",
    "y_pred = qda.predict(X_test_std)\n",
    "accuracy = qda.score(X_test_std, y_test)\n",
    "roc_auc = roc_auc_score(y_test, y_pred)\n",
    "mean_acc = cross_val_score(qda, X_train_std, y_train, cv=KFold(n_splits=20, shuffle=True, random_state=2023)).mean()\n",
    "mean_roc_auc = cross_val_score(qda, X_train_std, y_train, cv=KFold(n_splits=20, shuffle=True, random_state=2023), scoring='roc_auc').mean()\n",
    "\n",
    "print(f'Accuracy: {accuracy}')\n",
    "print(f'ROC_AUC: {roc_auc}')\n",
    "print(f'Mean Accuracy: {mean_acc}')\n",
    "print(f'Mean ROC_AUC: {mean_roc_auc}')"
   ]
  },
  {
   "attachments": {},
   "cell_type": "markdown",
   "metadata": {},
   "source": [
    "### AdaBoost"
   ]
  },
  {
   "cell_type": "code",
   "execution_count": 33,
   "metadata": {},
   "outputs": [
    {
     "name": "stdout",
     "output_type": "stream",
     "text": [
      "Accuracy: 0.8344671201814059\n",
      "ROC_AUC: 0.589496924775272\n",
      "Mean Accuracy: 0.8774132730015083\n",
      "Mean ROC_AUC: 0.8058805897317333\n"
     ]
    }
   ],
   "source": [
    "from sklearn.ensemble import AdaBoostClassifier\n",
    "from sklearn.metrics import roc_auc_score\n",
    "from sklearn.model_selection import cross_val_score\n",
    "\n",
    "adaboost = AdaBoostClassifier()\n",
    "\n",
    "adaboost.fit(X_train_std, y_train)\n",
    "\n",
    "y_pred = adaboost.predict(X_test_std)\n",
    "accuracy = adaboost.score(X_test_std, y_test)\n",
    "roc_auc = roc_auc_score(y_test, y_pred)\n",
    "mean_acc = cross_val_score(adaboost, X_train_std, y_train, cv=KFold(n_splits=20, shuffle=True, random_state=2023)).mean()\n",
    "mean_roc_auc = cross_val_score(adaboost, X_train_std, y_train, cv=KFold(n_splits=20, shuffle=True, random_state=2023), scoring='roc_auc').mean()\n",
    "\n",
    "print(f'Accuracy: {accuracy}')\n",
    "print(f'ROC_AUC: {roc_auc}')\n",
    "print(f'Mean Accuracy: {mean_acc}')\n",
    "print(f'Mean ROC_AUC: {mean_roc_auc}')"
   ]
  },
  {
   "attachments": {},
   "cell_type": "markdown",
   "metadata": {},
   "source": [
    "### XGBoost"
   ]
  },
  {
   "cell_type": "code",
   "execution_count": 34,
   "metadata": {},
   "outputs": [
    {
     "name": "stdout",
     "output_type": "stream",
     "text": [
      "Accuracy: 0.0\n",
      "ROC_AUC: 0.6222796088944962\n",
      "Mean Accuracy: 0.8600678733031675\n",
      "Mean ROC_AUC: 0.7775314406754544\n"
     ]
    }
   ],
   "source": [
    "from sklearn.model_selection import GridSearchCV, KFold\n",
    "from sklearn.preprocessing import LabelEncoder\n",
    "from xgboost import XGBClassifier\n",
    "from sklearn.metrics import roc_auc_score\n",
    "from sklearn.model_selection import cross_val_score\n",
    "\n",
    "# Codificar las clases\n",
    "label_encoder = LabelEncoder()\n",
    "y_train_encoded = label_encoder.fit_transform(y_train)\n",
    "\n",
    "# Definir el modelo XGBoost\n",
    "xgb = XGBClassifier()\n",
    "\n",
    "# Ajustar el modelo XGBoost\n",
    "xgb.fit(X_train_std, y_train_encoded)\n",
    "\n",
    "# Predecir y evaluar\n",
    "y_pred = xgb.predict(X_test_std)\n",
    "accuracy = xgb.score(X_test_std, y_test)\n",
    "roc_auc = roc_auc_score(y_test, y_pred)\n",
    "mean_acc = cross_val_score(xgb, X_train_std, y_train_encoded, cv=KFold(n_splits=20, shuffle=True, random_state=2023)).mean()\n",
    "mean_roc_auc = cross_val_score(xgb, X_train_std, y_train_encoded, cv=KFold(n_splits=20, shuffle=True, random_state=2023), scoring='roc_auc').mean()\n",
    "\n",
    "# Imprimir los resultados\n",
    "print(f'Accuracy: {accuracy}')\n",
    "print(f'ROC_AUC: {roc_auc}')\n",
    "print(f'Mean Accuracy: {mean_acc}')\n",
    "print(f'Mean ROC_AUC: {mean_roc_auc}')\n"
   ]
  },
  {
   "attachments": {},
   "cell_type": "markdown",
   "metadata": {},
   "source": [
    "### LGBM"
   ]
  },
  {
   "cell_type": "code",
   "execution_count": 35,
   "metadata": {},
   "outputs": [
    {
     "name": "stdout",
     "output_type": "stream",
     "text": [
      "Accuracy: 0.8662131519274376\n",
      "ROC_AUC: 0.6142761394101877\n",
      "Mean Accuracy: 0.8570701357466064\n",
      "Mean ROC_AUC: 0.7836564785318706\n"
     ]
    }
   ],
   "source": [
    "    from lightgbm import LGBMClassifier\n",
    "    from sklearn.metrics import roc_auc_score\n",
    "    from sklearn.model_selection import cross_val_score\n",
    "\n",
    "    lgbm = LGBMClassifier()\n",
    "\n",
    "    lgbm.fit(X_train_std, y_train)\n",
    "\n",
    "    y_pred = lgbm.predict(X_test_std)\n",
    "    accuracy = lgbm.score(X_test_std, y_test)\n",
    "    roc_auc = roc_auc_score(y_test, y_pred)\n",
    "    mean_acc = cross_val_score(lgbm, X_train_std, y_train, cv=KFold(n_splits=20, shuffle=True, random_state=2023)).mean()\n",
    "    mean_roc_auc = cross_val_score(lgbm, X_train_std, y_train, cv=KFold(n_splits=20, shuffle=True, random_state=2023), scoring='roc_auc').mean()\n",
    "\n",
    "    print(f'Accuracy: {accuracy}')\n",
    "    print(f'ROC_AUC: {roc_auc}')\n",
    "    print(f'Mean Accuracy: {mean_acc}')\n",
    "    print(f'Mean ROC_AUC: {mean_roc_auc}')"
   ]
  }
 ],
 "metadata": {
  "kernelspec": {
   "display_name": "analytics_env",
   "language": "python",
   "name": "python3"
  },
  "language_info": {
   "codemirror_mode": {
    "name": "ipython",
    "version": 3
   },
   "file_extension": ".py",
   "mimetype": "text/x-python",
   "name": "python",
   "nbconvert_exporter": "python",
   "pygments_lexer": "ipython3",
   "version": "3.9.13"
  },
  "orig_nbformat": 4
 },
 "nbformat": 4,
 "nbformat_minor": 2
}
