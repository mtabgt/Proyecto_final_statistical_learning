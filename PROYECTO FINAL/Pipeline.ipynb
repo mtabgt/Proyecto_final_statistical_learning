{
 "cells": [
  {
   "cell_type": "code",
   "execution_count": 149,
   "id": "7f261b4a-1e80-4c73-b43b-cd0347ed88a6",
   "metadata": {},
   "outputs": [],
   "source": [
    "import pandas as pd\n",
    "import numpy as np\n",
    "\n",
    "from sklearn.linear_model import Lasso\n",
    "from sklearn.metrics import mean_squared_error, r2_score\n",
    "from sklearn.model_selection import train_test_split\n",
    "from sklearn.pipeline import Pipeline\n",
    "from sklearn.preprocessing import MinMaxScaler, Binarizer\n",
    "\n",
    "from feature_engine.imputation import AddMissingIndicator, MeanMedianImputer, CategoricalImputer\n",
    "from feature_engine.encoding import RareLabelEncoder, OrdinalEncoder\n",
    "from feature_engine.transformation import LogTransformer\n",
    "from feature_engine.selection import DropFeatures\n",
    "from feature_engine.wrappers import SklearnTransformerWrapper\n",
    "\n",
    "import myPreprocessors as mypp # librerías de transformaciones.\n",
    "\n",
    "import joblib"
   ]
  },
  {
   "cell_type": "code",
   "execution_count": 191,
   "id": "c228c62f-74f9-4ada-8e30-3877d5f9a7cb",
   "metadata": {},
   "outputs": [
    {
     "data": {
      "text/html": [
       "<div>\n",
       "<style scoped>\n",
       "    .dataframe tbody tr th:only-of-type {\n",
       "        vertical-align: middle;\n",
       "    }\n",
       "\n",
       "    .dataframe tbody tr th {\n",
       "        vertical-align: top;\n",
       "    }\n",
       "\n",
       "    .dataframe thead th {\n",
       "        text-align: right;\n",
       "    }\n",
       "</style>\n",
       "<table border=\"1\" class=\"dataframe\">\n",
       "  <thead>\n",
       "    <tr style=\"text-align: right;\">\n",
       "      <th></th>\n",
       "      <th>Age</th>\n",
       "      <th>Attrition</th>\n",
       "      <th>BusinessTravel</th>\n",
       "      <th>DailyRate</th>\n",
       "      <th>Department</th>\n",
       "      <th>DistanceFromHome</th>\n",
       "      <th>Education</th>\n",
       "      <th>EducationField</th>\n",
       "      <th>EmployeeCount</th>\n",
       "      <th>EmployeeNumber</th>\n",
       "      <th>...</th>\n",
       "      <th>RelationshipSatisfaction</th>\n",
       "      <th>StandardHours</th>\n",
       "      <th>StockOptionLevel</th>\n",
       "      <th>TotalWorkingYears</th>\n",
       "      <th>TrainingTimesLastYear</th>\n",
       "      <th>WorkLifeBalance</th>\n",
       "      <th>YearsAtCompany</th>\n",
       "      <th>YearsInCurrentRole</th>\n",
       "      <th>YearsSinceLastPromotion</th>\n",
       "      <th>YearsWithCurrManager</th>\n",
       "    </tr>\n",
       "  </thead>\n",
       "  <tbody>\n",
       "    <tr>\n",
       "      <th>0</th>\n",
       "      <td>41.0</td>\n",
       "      <td>Yes</td>\n",
       "      <td>Travel_Rarely</td>\n",
       "      <td>1102.0</td>\n",
       "      <td>Sales</td>\n",
       "      <td>1</td>\n",
       "      <td>2</td>\n",
       "      <td>Life Sciences</td>\n",
       "      <td>1.0</td>\n",
       "      <td>1.0</td>\n",
       "      <td>...</td>\n",
       "      <td>1</td>\n",
       "      <td>80</td>\n",
       "      <td>0</td>\n",
       "      <td>8</td>\n",
       "      <td>0</td>\n",
       "      <td>1</td>\n",
       "      <td>6</td>\n",
       "      <td>4</td>\n",
       "      <td>0</td>\n",
       "      <td>5</td>\n",
       "    </tr>\n",
       "    <tr>\n",
       "      <th>1</th>\n",
       "      <td>49.0</td>\n",
       "      <td>No</td>\n",
       "      <td>Travel_Frequently</td>\n",
       "      <td>279.0</td>\n",
       "      <td>Research &amp; Development</td>\n",
       "      <td>8</td>\n",
       "      <td>1</td>\n",
       "      <td>Life Sciences</td>\n",
       "      <td>1.0</td>\n",
       "      <td>2.0</td>\n",
       "      <td>...</td>\n",
       "      <td>4</td>\n",
       "      <td>80</td>\n",
       "      <td>1</td>\n",
       "      <td>10</td>\n",
       "      <td>3</td>\n",
       "      <td>3</td>\n",
       "      <td>10</td>\n",
       "      <td>7</td>\n",
       "      <td>1</td>\n",
       "      <td>7</td>\n",
       "    </tr>\n",
       "    <tr>\n",
       "      <th>2</th>\n",
       "      <td>37.0</td>\n",
       "      <td>Yes</td>\n",
       "      <td>Travel_Rarely</td>\n",
       "      <td>1373.0</td>\n",
       "      <td>Research &amp; Development</td>\n",
       "      <td>2</td>\n",
       "      <td>2</td>\n",
       "      <td>Other</td>\n",
       "      <td>1.0</td>\n",
       "      <td>4.0</td>\n",
       "      <td>...</td>\n",
       "      <td>2</td>\n",
       "      <td>80</td>\n",
       "      <td>0</td>\n",
       "      <td>7</td>\n",
       "      <td>3</td>\n",
       "      <td>3</td>\n",
       "      <td>0</td>\n",
       "      <td>0</td>\n",
       "      <td>0</td>\n",
       "      <td>0</td>\n",
       "    </tr>\n",
       "    <tr>\n",
       "      <th>3</th>\n",
       "      <td>33.0</td>\n",
       "      <td>No</td>\n",
       "      <td>Travel_Frequently</td>\n",
       "      <td>1392.0</td>\n",
       "      <td>Research &amp; Development</td>\n",
       "      <td>3</td>\n",
       "      <td>4</td>\n",
       "      <td>Life Sciences</td>\n",
       "      <td>1.0</td>\n",
       "      <td>5.0</td>\n",
       "      <td>...</td>\n",
       "      <td>3</td>\n",
       "      <td>80</td>\n",
       "      <td>0</td>\n",
       "      <td>8</td>\n",
       "      <td>3</td>\n",
       "      <td>3</td>\n",
       "      <td>8</td>\n",
       "      <td>7</td>\n",
       "      <td>3</td>\n",
       "      <td>0</td>\n",
       "    </tr>\n",
       "    <tr>\n",
       "      <th>4</th>\n",
       "      <td>NaN</td>\n",
       "      <td>No</td>\n",
       "      <td>Travel_Rarely</td>\n",
       "      <td>591.0</td>\n",
       "      <td>NaN</td>\n",
       "      <td>2</td>\n",
       "      <td>1</td>\n",
       "      <td>Medical</td>\n",
       "      <td>1.0</td>\n",
       "      <td>7.0</td>\n",
       "      <td>...</td>\n",
       "      <td>4</td>\n",
       "      <td>80</td>\n",
       "      <td>1</td>\n",
       "      <td>6</td>\n",
       "      <td>3</td>\n",
       "      <td>3</td>\n",
       "      <td>2</td>\n",
       "      <td>2</td>\n",
       "      <td>2</td>\n",
       "      <td>2</td>\n",
       "    </tr>\n",
       "  </tbody>\n",
       "</table>\n",
       "<p>5 rows × 35 columns</p>\n",
       "</div>"
      ],
      "text/plain": [
       "    Age Attrition     BusinessTravel  DailyRate              Department  \\\n",
       "0  41.0       Yes      Travel_Rarely     1102.0                   Sales   \n",
       "1  49.0        No  Travel_Frequently      279.0  Research & Development   \n",
       "2  37.0       Yes      Travel_Rarely     1373.0  Research & Development   \n",
       "3  33.0        No  Travel_Frequently     1392.0  Research & Development   \n",
       "4   NaN        No      Travel_Rarely      591.0                     NaN   \n",
       "\n",
       "   DistanceFromHome  Education EducationField  EmployeeCount  EmployeeNumber  \\\n",
       "0                 1          2  Life Sciences            1.0             1.0   \n",
       "1                 8          1  Life Sciences            1.0             2.0   \n",
       "2                 2          2          Other            1.0             4.0   \n",
       "3                 3          4  Life Sciences            1.0             5.0   \n",
       "4                 2          1        Medical            1.0             7.0   \n",
       "\n",
       "   ...  RelationshipSatisfaction StandardHours  StockOptionLevel  \\\n",
       "0  ...                         1            80                 0   \n",
       "1  ...                         4            80                 1   \n",
       "2  ...                         2            80                 0   \n",
       "3  ...                         3            80                 0   \n",
       "4  ...                         4            80                 1   \n",
       "\n",
       "   TotalWorkingYears  TrainingTimesLastYear WorkLifeBalance  YearsAtCompany  \\\n",
       "0                  8                      0               1               6   \n",
       "1                 10                      3               3              10   \n",
       "2                  7                      3               3               0   \n",
       "3                  8                      3               3               8   \n",
       "4                  6                      3               3               2   \n",
       "\n",
       "  YearsInCurrentRole  YearsSinceLastPromotion  YearsWithCurrManager  \n",
       "0                  4                        0                     5  \n",
       "1                  7                        1                     7  \n",
       "2                  0                        0                     0  \n",
       "3                  7                        3                     0  \n",
       "4                  2                        2                     2  \n",
       "\n",
       "[5 rows x 35 columns]"
      ]
     },
     "execution_count": 191,
     "metadata": {},
     "output_type": "execute_result"
    }
   ],
   "source": [
    "dataTrain = pd.read_csv(\"HR_employee_attrition_2.csv\")\n",
    "dataTrain.head()"
   ]
  },
  {
   "cell_type": "code",
   "execution_count": 192,
   "id": "53170100-180b-4d62-9514-2be15bbea71d",
   "metadata": {},
   "outputs": [
    {
     "data": {
      "text/plain": [
       "Age                         float64\n",
       "Attrition                    object\n",
       "BusinessTravel               object\n",
       "DailyRate                   float64\n",
       "Department                   object\n",
       "DistanceFromHome              int64\n",
       "Education                     int64\n",
       "EducationField               object\n",
       "EmployeeCount               float64\n",
       "EmployeeNumber              float64\n",
       "EnvironmentSatisfaction     float64\n",
       "Gender                       object\n",
       "HourlyRate                  float64\n",
       "JobInvolvement              float64\n",
       "JobLevel                    float64\n",
       "JobRole                      object\n",
       "JobSatisfaction               int64\n",
       "MaritalStatus                object\n",
       "MonthlyIncome                 int64\n",
       "MonthlyRate                 float64\n",
       "NumCompaniesWorked          float64\n",
       "Over18                       object\n",
       "OverTime                     object\n",
       "PercentSalaryHike             int64\n",
       "PerformanceRating             int64\n",
       "RelationshipSatisfaction      int64\n",
       "StandardHours                 int64\n",
       "StockOptionLevel              int64\n",
       "TotalWorkingYears             int64\n",
       "TrainingTimesLastYear         int64\n",
       "WorkLifeBalance               int64\n",
       "YearsAtCompany                int64\n",
       "YearsInCurrentRole            int64\n",
       "YearsSinceLastPromotion       int64\n",
       "YearsWithCurrManager          int64\n",
       "dtype: object"
      ]
     },
     "execution_count": 192,
     "metadata": {},
     "output_type": "execute_result"
    }
   ],
   "source": [
    "dataTrain.dtypes"
   ]
  },
  {
   "cell_type": "code",
   "execution_count": 65,
   "id": "459fc709-16e1-4cd5-bf7e-4a8b693feb4f",
   "metadata": {},
   "outputs": [],
   "source": [
    "#dataTrain['MSSubClass'] = dataTrain['MSSubClass'].astype('O')\n",
    "#dataTrain['GarageCars'] = dataTrain['GarageCars'].astype('O')\n",
    "#dataTrain['BsmtFullBath'] = dataTrain['BsmtFullBath'].astype('O')"
   ]
  },
  {
   "attachments": {},
   "cell_type": "markdown",
   "id": "a460950b-75f7-4c60-9415-2e183cee5f7d",
   "metadata": {},
   "source": [
    "#### 2. Train Test Split para Entrenamiento y Prueba"
   ]
  },
  {
   "cell_type": "code",
   "execution_count": 193,
   "id": "e29738ce-1ae7-4d7b-a5de-3703ded7ccf9",
   "metadata": {},
   "outputs": [],
   "source": [
    "X_train, X_test, y_train, y_test = train_test_split(\n",
    "    dataTrain,\n",
    "    dataTrain['Age'],\n",
    "    test_size=0.3,\n",
    "    random_state=2022)"
   ]
  },
  {
   "attachments": {},
   "cell_type": "markdown",
   "id": "8c7e7779-87a6-41f1-8d3f-f069bd4aabf2",
   "metadata": {},
   "source": [
    "#### 3. Configuración del Pipeline"
   ]
  },
  {
   "cell_type": "code",
   "execution_count": 194,
   "id": "9611114b-690a-43b4-a523-360aadb9a89b",
   "metadata": {},
   "outputs": [],
   "source": [
    "#imputación de variables categóricas\n",
    "CATEGORICAL_VARS_WITH_NA_FREQUENT = ['Attrition', 'BusinessTravel', 'Department', 'EducationField', 'MaritalStatus', 'OverTime', 'Gender', 'Over18']\n",
    "\n",
    "\n",
    "#Imputación de variables numéricas\n",
    "NUMERICAL_VARS_WITH_NA = ['Age', 'DailyRate', 'EmployeeCount', 'EmployeeNumber', 'EnvironmentSatisfaction', 'HourlyRate', 'JobInvolvement', 'JobLevel', 'MonthlyRate', 'NumCompaniesWorked' ]\n",
    "\n",
    "\n",
    "\n",
    "#Variables que eliminaremos\n",
    "#DROP_FEATURES = [\"YrSold\"]\n",
    "\n",
    "\n",
    "\n",
    "#Variables para codificación por frecuencia (no ordinal)\n",
    "CATEGORICAL_VARS = ['Attrition', 'BusinessTravel', 'Department', 'EducationField',\n",
    "                                     'JobRole', 'Gender', 'MaritalStatus', 'Over18', 'OverTime']\n",
    "\n",
    "\n",
    "#Variables a utilzar en el entrenamiento\n",
    "FEATURES = ['Attrition', 'BusinessTravel', 'Department', 'EducationField', 'Gender', 'MaritalStatus', 'Over18','Age', 'DailyRate', 'EmployeeCount', 'EmployeeNumber', 'EnvironmentSatisfaction', 'HourlyRate', 'JobInvolvement', 'JobLevel', 'JobRole', 'MonthlyRate', 'NumCompaniesWorked', 'OverTime']\n"
   ]
  },
  {
   "cell_type": "code",
   "execution_count": 195,
   "id": "e0f1af0a-7c9f-4835-846e-d5b25f6a095e",
   "metadata": {},
   "outputs": [],
   "source": [
    "X_train = X_train[FEATURES]"
   ]
  },
  {
   "cell_type": "code",
   "execution_count": 196,
   "id": "75fd62f3-bc33-44fc-a79a-3c8f9dbc4295",
   "metadata": {},
   "outputs": [],
   "source": [
    "y_train = np.log(y_train)\n",
    "y_test = np.log(y_test)"
   ]
  },
  {
   "attachments": {},
   "cell_type": "markdown",
   "id": "9d25fe80-43f8-4bb3-9b99-d13c4bc4954a",
   "metadata": {},
   "source": [
    "#### 4. Construcción del Pipeline"
   ]
  },
  {
   "cell_type": "code",
   "execution_count": 209,
   "id": "303f4186-6d5d-491b-ba7c-ca0141d30300",
   "metadata": {},
   "outputs": [],
   "source": [
    "from feature_engine.encoding import OneHotEncoder\n",
    "\n",
    "attritions_pipeline = Pipeline([\n",
    "    \n",
    "    #=========== IMPUTACIONES ===============\n",
    "    \n",
    "    #2. Imputación de varaibles categóticas basada en frecuencia\n",
    "    ('frequent_imputation',\n",
    "        CategoricalImputer(imputation_method='frequent', variables=CATEGORICAL_VARS_WITH_NA_FREQUENT)\n",
    "    ),\n",
    "    \n",
    "    \n",
    "    #3. Indicador faltane en variables numericas para imputación\n",
    "    ('missing_indicator_numeric',\n",
    "        AddMissingIndicator(variables=NUMERICAL_VARS_WITH_NA)\n",
    "    ),\n",
    "    \n",
    "    #4. Imputación de variables numéricas\n",
    "    ('mean_imputation',\n",
    "        MeanMedianImputer(imputation_method='mean', variables=NUMERICAL_VARS_WITH_NA)\n",
    "    ),\n",
    "    \n",
    "\n",
    "    \n",
    "    #============= CODIFICACIÓN DE VARIABLES CATEGORICAS NOMINALES ==================\n",
    "    ('rare_label_encoder',\n",
    "        RareLabelEncoder(n_categories=1, tol=0.01, variables=CATEGORICAL_VARS)\n",
    "    ),\n",
    "    \n",
    "    \n",
    " #   ('modelo_lasso', \n",
    "  #       Lasso(alpha=0.01, random_state=2022)\n",
    "   # )\n",
    "    \n",
    "    \n",
    "])"
   ]
  },
  {
   "cell_type": "code",
   "execution_count": 210,
   "id": "69c3632b-d1bc-48ca-b7cf-d9aa4776875a",
   "metadata": {},
   "outputs": [
    {
     "name": "stderr",
     "output_type": "stream",
     "text": [
      "c:\\Users\\Mario T\\anaconda3\\lib\\site-packages\\feature_engine\\encoding\\rare_label.py:216: UserWarning: The number of unique categories for variable Over18 is less than that indicated in n_categories. Thus, all categories will be considered frequent\n",
      "  warnings.warn(\n"
     ]
    },
    {
     "data": {
      "text/plain": [
       "Pipeline(steps=[('frequent_imputation',\n",
       "                 CategoricalImputer(imputation_method='frequent',\n",
       "                                    variables=['Attrition', 'BusinessTravel',\n",
       "                                               'Department', 'EducationField',\n",
       "                                               'MaritalStatus', 'OverTime',\n",
       "                                               'Gender', 'Over18'])),\n",
       "                ('missing_indicator_numeric',\n",
       "                 AddMissingIndicator(variables=['Age', 'DailyRate',\n",
       "                                                'EmployeeCount',\n",
       "                                                'EmployeeNumber',\n",
       "                                                'EnvironmentSatisfaction',\n",
       "                                                'HourlyR...\n",
       "                                   variables=['Age', 'DailyRate',\n",
       "                                              'EmployeeCount', 'EmployeeNumber',\n",
       "                                              'EnvironmentSatisfaction',\n",
       "                                              'HourlyRate', 'JobInvolvement',\n",
       "                                              'JobLevel', 'MonthlyRate',\n",
       "                                              'NumCompaniesWorked'])),\n",
       "                ('rare_label_encoder',\n",
       "                 RareLabelEncoder(n_categories=1, tol=0.01,\n",
       "                                  variables=['Attrition', 'BusinessTravel',\n",
       "                                             'Department', 'EducationField',\n",
       "                                             'JobRole', 'Gender',\n",
       "                                             'MaritalStatus', 'Over18',\n",
       "                                             'OverTime']))])"
      ]
     },
     "execution_count": 210,
     "metadata": {},
     "output_type": "execute_result"
    }
   ],
   "source": [
    "attritions_pipeline.fit(X_train, y_train)"
   ]
  },
  {
   "cell_type": "code",
   "execution_count": 211,
   "id": "584c2975",
   "metadata": {},
   "outputs": [
    {
     "name": "stdout",
     "output_type": "stream",
     "text": [
      "<class 'pandas.core.frame.DataFrame'>\n",
      "Int64Index: 1029 entries, 651 to 893\n",
      "Data columns (total 19 columns):\n",
      " #   Column                   Non-Null Count  Dtype  \n",
      "---  ------                   --------------  -----  \n",
      " 0   Attrition                1013 non-null   object \n",
      " 1   BusinessTravel           990 non-null    object \n",
      " 2   Department               728 non-null    object \n",
      " 3   EducationField           1024 non-null   object \n",
      " 4   Gender                   652 non-null    object \n",
      " 5   MaritalStatus            1004 non-null   object \n",
      " 6   Over18                   896 non-null    object \n",
      " 7   Age                      1023 non-null   float64\n",
      " 8   DailyRate                998 non-null    float64\n",
      " 9   EmployeeCount            939 non-null    float64\n",
      " 10  EmployeeNumber           1019 non-null   float64\n",
      " 11  EnvironmentSatisfaction  997 non-null    float64\n",
      " 12  HourlyRate               1019 non-null   float64\n",
      " 13  JobInvolvement           1020 non-null   float64\n",
      " 14  JobLevel                 984 non-null    float64\n",
      " 15  JobRole                  1029 non-null   object \n",
      " 16  MonthlyRate              1003 non-null   float64\n",
      " 17  NumCompaniesWorked       1015 non-null   float64\n",
      " 18  OverTime                 1017 non-null   object \n",
      "dtypes: float64(10), object(9)\n",
      "memory usage: 160.8+ KB\n"
     ]
    }
   ],
   "source": [
    "X_train.info()"
   ]
  },
  {
   "cell_type": "code",
   "execution_count": 212,
   "id": "32a8caa4-285e-49b6-b784-7b87daa7c559",
   "metadata": {},
   "outputs": [],
   "source": [
    "X_test = X_test[FEATURES]"
   ]
  },
  {
   "cell_type": "code",
   "execution_count": null,
   "id": "46e79bc4",
   "metadata": {},
   "outputs": [],
   "source": [
    "preds = attritions_pipeline.predict(X_test)"
   ]
  },
  {
   "cell_type": "code",
   "execution_count": null,
   "id": "75fdf681",
   "metadata": {},
   "outputs": [],
   "source": [
    "rmseTest = np.sqrt(mean_squared_error(np.exp(y_test), np.exp(preds)))\n",
    "rmseTest"
   ]
  },
  {
   "cell_type": "code",
   "execution_count": 17,
   "id": "00d2c076-add0-4ad0-8067-3ecca7d47ff8",
   "metadata": {},
   "outputs": [
    {
     "data": {
      "text/plain": [
       "(34900.00000000001, 754999.9999999999)"
      ]
     },
     "execution_count": 17,
     "metadata": {},
     "output_type": "execute_result"
    }
   ],
   "source": [
    "np.min(np.exp(y_train)), np.max(np.exp(y_train))"
   ]
  },
  {
   "cell_type": "code",
   "execution_count": 18,
   "id": "f2147a2e-63eb-4475-b2ab-d7acf9e00963",
   "metadata": {},
   "outputs": [
    {
     "data": {
      "text/plain": [
       "0.06067434691313879"
      ]
     },
     "execution_count": 18,
     "metadata": {},
     "output_type": "execute_result"
    }
   ],
   "source": [
    "rmseTest / (np.max(np.exp(y_train)) - np.min(np.exp(y_train)))"
   ]
  },
  {
   "cell_type": "code",
   "execution_count": 19,
   "id": "7a747df5-2fae-4492-b039-71e09a6df80d",
   "metadata": {},
   "outputs": [
    {
     "data": {
      "text/plain": [
       "['housePrice_pipeline_v112022.pkl']"
      ]
     },
     "execution_count": 19,
     "metadata": {},
     "output_type": "execute_result"
    }
   ],
   "source": [
    "#guardamos pipeline para uso en producción.\n",
    "joblib.dump(attritions_pipeline, 'attritions_pipeline.pkl')"
   ]
  },
  {
   "cell_type": "code",
   "execution_count": 20,
   "id": "66327b93-c246-4689-8f6d-005d5d872b22",
   "metadata": {},
   "outputs": [
    {
     "data": {
      "text/plain": [
       "['FEATURES.pkl']"
      ]
     },
     "execution_count": 20,
     "metadata": {},
     "output_type": "execute_result"
    }
   ],
   "source": [
    "joblib.dump(FEATURES, 'FEATURES.pkl')"
   ]
  }
 ],
 "metadata": {
  "kernelspec": {
   "display_name": "Python 3.9.12 ('base')",
   "language": "python",
   "name": "python3"
  },
  "language_info": {
   "codemirror_mode": {
    "name": "ipython",
    "version": 3
   },
   "file_extension": ".py",
   "mimetype": "text/x-python",
   "name": "python",
   "nbconvert_exporter": "python",
   "pygments_lexer": "ipython3",
   "version": "3.9.13"
  },
  "vscode": {
   "interpreter": {
    "hash": "48168050f1fe731b302b63a744aad32afdf0a66ee6e49905924ec3fd4edeb196"
   }
  }
 },
 "nbformat": 4,
 "nbformat_minor": 5
}
